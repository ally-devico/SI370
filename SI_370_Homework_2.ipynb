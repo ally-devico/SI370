{
 "cells": [
  {
   "cell_type": "markdown",
   "id": "2343b793-1865-4ead-9a36-b352c6cf3da3",
   "metadata": {},
   "source": [
    "# SI 370 - Homework #2: Data Visualization\n",
    "\n",
    "Version 2023.09.20.1.CT"
   ]
  },
  {
   "cell_type": "markdown",
   "id": "22afd6d5-4b68-4dce-b63a-53f9fb61b43e",
   "metadata": {},
   "source": [
    "For this homework assignment, you will use a dataset similar to one we used in an earlier lecture: the small MovieLens dataset, available via https://files.grouplens.org/datasets/movielens/ml-latest-small.zip. Download that file to get the data, and also take some time to go through the [README](https://files.grouplens.org/datasets/movielens/ml-latest-small-README.html) file.\n",
    "\n",
    "Be sure to download your own copy of the dataset -- do not rely on data that you may have downloaded for a previous assignment."
   ]
  },
  {
   "cell_type": "markdown",
   "id": "090b1ecf-6550-473d-a139-8577804076b2",
   "metadata": {},
   "source": [
    "A major challenge for you in this assignment is to devise a plan to tackle each question.  The question states the overall goal, and in some cases hints are provided, but you will need to think carefully about what data you need to answer each of the questions. We will go over some planning in class together so you get a feel for what you need to do."
   ]
  },
  {
   "cell_type": "markdown",
   "id": "9a1242f4-5aad-442a-9b37-ffa9cba0d855",
   "metadata": {},
   "source": [
    "Each of the questions is worth the same number of points.  Points will be allocated according to the following rubric:\n",
    "\n",
    "- 90-100%: Question is correctly and completely answered.  Answer consists of well-written code that conforms to [PEP 8](https://www.python.org/dev/peps/pep-0008/) guidelines and is \n",
    "accompanied by a written interpretation in a Markdown block.  Written interpretation does not contain spelling, grammar or stylistic errors (see [Strunk & White](https://drive.google.com/file/d/1L0P7xJwjUGBvyb49mL3dw1Bt7hzRTiTl/view?usp=sharing) for a detailed specifications).  Minor problems, such as formatting, incorrect submissions, missing names, etc. will result in less than 100%.\n",
    "- 75-85% : Answer is mostly complete and correct; two or fewer noticeable omissions or errors.  Minor stylistic flaws, either in code or in\n",
    "written interpretation.\n",
    "- 50-70%: Answer has significant omissions or errors; Noticeable departure from PEP-8 guildelines and/or moderate spelling, grammar, or style issues\n",
    "in written interpretations.\n",
    "- 25-45%: Question is perfunctorily attempted.  Substantial parts are missing or incorrect.\n",
    "- 0 points: Question not attempted."
   ]
  },
  {
   "cell_type": "markdown",
   "id": "a2c8b3f1",
   "metadata": {},
   "source": [
    "**NOTE**: You are only permitted to use the pandas, Seaborn, and matplotlib libraries for creating visualizations in this assignment. You may use other libraries for other purposes, but you may not use them to create visualizations."
   ]
  },
  {
   "cell_type": "markdown",
   "id": "3f9eab8a-f241-4c2d-b3ce-203c1b01e6ea",
   "metadata": {},
   "source": [
    "<hr>"
   ]
  },
  {
   "cell_type": "markdown",
   "id": "bea547eb-d897-44cd-a120-5c0305558586",
   "metadata": {},
   "source": [
    "First, let's do our usual imports (you might need to import additional modules depending on how you choose to tackle each question):"
   ]
  },
  {
   "cell_type": "code",
   "execution_count": 55,
   "id": "65729851-f83f-42e9-ae42-5703e532a3d4",
   "metadata": {},
   "outputs": [],
   "source": [
    "import pandas as pd\n",
    "import seaborn as sns\n",
    "from datetime import datetime"
   ]
  },
  {
   "cell_type": "markdown",
   "id": "86e988d9-21a1-44dc-8bdc-06cfdd2e96fe",
   "metadata": {},
   "source": [
    "And let's read the data (note: you might need to include path information if the data files are not in the same directory as this notebook):"
   ]
  },
  {
   "cell_type": "code",
   "execution_count": 56,
   "id": "ed07e396-e11f-4960-8e7d-0239fe812656",
   "metadata": {},
   "outputs": [],
   "source": [
    "movies = pd.read_csv('../data/ml-latest-small/movies.csv')\n",
    "ratings = pd.read_csv('../data/ml-latest-small/ratings.csv')\n",
    "tags = pd.read_csv('../data/ml-latest-small/tags.csv')"
   ]
  },
  {
   "cell_type": "code",
   "execution_count": 57,
   "id": "5944e271-45eb-49df-a623-72ff1a6bce25",
   "metadata": {},
   "outputs": [
    {
     "data": {
      "text/html": [
       "<div>\n",
       "<style scoped>\n",
       "    .dataframe tbody tr th:only-of-type {\n",
       "        vertical-align: middle;\n",
       "    }\n",
       "\n",
       "    .dataframe tbody tr th {\n",
       "        vertical-align: top;\n",
       "    }\n",
       "\n",
       "    .dataframe thead th {\n",
       "        text-align: right;\n",
       "    }\n",
       "</style>\n",
       "<table border=\"1\" class=\"dataframe\">\n",
       "  <thead>\n",
       "    <tr style=\"text-align: right;\">\n",
       "      <th></th>\n",
       "      <th>movieId</th>\n",
       "      <th>title</th>\n",
       "      <th>genres</th>\n",
       "    </tr>\n",
       "  </thead>\n",
       "  <tbody>\n",
       "    <tr>\n",
       "      <th>0</th>\n",
       "      <td>1</td>\n",
       "      <td>Toy Story (1995)</td>\n",
       "      <td>Adventure|Animation|Children|Comedy|Fantasy</td>\n",
       "    </tr>\n",
       "    <tr>\n",
       "      <th>1</th>\n",
       "      <td>2</td>\n",
       "      <td>Jumanji (1995)</td>\n",
       "      <td>Adventure|Children|Fantasy</td>\n",
       "    </tr>\n",
       "    <tr>\n",
       "      <th>2</th>\n",
       "      <td>3</td>\n",
       "      <td>Grumpier Old Men (1995)</td>\n",
       "      <td>Comedy|Romance</td>\n",
       "    </tr>\n",
       "    <tr>\n",
       "      <th>3</th>\n",
       "      <td>4</td>\n",
       "      <td>Waiting to Exhale (1995)</td>\n",
       "      <td>Comedy|Drama|Romance</td>\n",
       "    </tr>\n",
       "    <tr>\n",
       "      <th>4</th>\n",
       "      <td>5</td>\n",
       "      <td>Father of the Bride Part II (1995)</td>\n",
       "      <td>Comedy</td>\n",
       "    </tr>\n",
       "    <tr>\n",
       "      <th>...</th>\n",
       "      <td>...</td>\n",
       "      <td>...</td>\n",
       "      <td>...</td>\n",
       "    </tr>\n",
       "    <tr>\n",
       "      <th>9737</th>\n",
       "      <td>193581</td>\n",
       "      <td>Black Butler: Book of the Atlantic (2017)</td>\n",
       "      <td>Action|Animation|Comedy|Fantasy</td>\n",
       "    </tr>\n",
       "    <tr>\n",
       "      <th>9738</th>\n",
       "      <td>193583</td>\n",
       "      <td>No Game No Life: Zero (2017)</td>\n",
       "      <td>Animation|Comedy|Fantasy</td>\n",
       "    </tr>\n",
       "    <tr>\n",
       "      <th>9739</th>\n",
       "      <td>193585</td>\n",
       "      <td>Flint (2017)</td>\n",
       "      <td>Drama</td>\n",
       "    </tr>\n",
       "    <tr>\n",
       "      <th>9740</th>\n",
       "      <td>193587</td>\n",
       "      <td>Bungo Stray Dogs: Dead Apple (2018)</td>\n",
       "      <td>Action|Animation</td>\n",
       "    </tr>\n",
       "    <tr>\n",
       "      <th>9741</th>\n",
       "      <td>193609</td>\n",
       "      <td>Andrew Dice Clay: Dice Rules (1991)</td>\n",
       "      <td>Comedy</td>\n",
       "    </tr>\n",
       "  </tbody>\n",
       "</table>\n",
       "<p>9742 rows × 3 columns</p>\n",
       "</div>"
      ],
      "text/plain": [
       "      movieId                                      title  \\\n",
       "0           1                           Toy Story (1995)   \n",
       "1           2                             Jumanji (1995)   \n",
       "2           3                    Grumpier Old Men (1995)   \n",
       "3           4                   Waiting to Exhale (1995)   \n",
       "4           5         Father of the Bride Part II (1995)   \n",
       "...       ...                                        ...   \n",
       "9737   193581  Black Butler: Book of the Atlantic (2017)   \n",
       "9738   193583               No Game No Life: Zero (2017)   \n",
       "9739   193585                               Flint (2017)   \n",
       "9740   193587        Bungo Stray Dogs: Dead Apple (2018)   \n",
       "9741   193609        Andrew Dice Clay: Dice Rules (1991)   \n",
       "\n",
       "                                           genres  \n",
       "0     Adventure|Animation|Children|Comedy|Fantasy  \n",
       "1                      Adventure|Children|Fantasy  \n",
       "2                                  Comedy|Romance  \n",
       "3                            Comedy|Drama|Romance  \n",
       "4                                          Comedy  \n",
       "...                                           ...  \n",
       "9737              Action|Animation|Comedy|Fantasy  \n",
       "9738                     Animation|Comedy|Fantasy  \n",
       "9739                                        Drama  \n",
       "9740                             Action|Animation  \n",
       "9741                                       Comedy  \n",
       "\n",
       "[9742 rows x 3 columns]"
      ]
     },
     "execution_count": 57,
     "metadata": {},
     "output_type": "execute_result"
    }
   ],
   "source": [
    "movies"
   ]
  },
  {
   "cell_type": "markdown",
   "id": "62428ca4-c812-46ae-a2ed-df339529e6bc",
   "metadata": {
    "tags": []
   },
   "source": [
    "### Q1: \n",
    "Using the `movies` DataFrame, create a visualization that shows the number of movies for each decade from the 1900s to the 2010s.  Use the number in parentheses (e.g. (1975)) at the end of the title as the year.  Drop all rows that do not have a valid year.\n",
    "\n",
    "**Hint**: The year is always the middle 4 characters of the last 6 characters of the title.  You can use the `str` accessor to extract the year from the title.\n",
    "\n",
    "**Hint**: Review the pandas date and time functionality, in particular the `to_datetime()` function."
   ]
  },
  {
   "cell_type": "code",
   "execution_count": 58,
   "id": "7dd6a834-1f7d-4887-98ff-be546002b411",
   "metadata": {},
   "outputs": [],
   "source": [
    "# insert your code here\n",
    "\n",
    "def get_year(row):\n",
    "    cutoff = row[-5:-1]\n",
    "    if cutoff.isdigit():\n",
    "        return cutoff\n",
    "    return None"
   ]
  },
  {
   "cell_type": "code",
   "execution_count": 59,
   "id": "2ee60405",
   "metadata": {},
   "outputs": [],
   "source": [
    "movies[\"year\"] = movies[\"title\"].apply(get_year)"
   ]
  },
  {
   "cell_type": "code",
   "execution_count": 60,
   "id": "1b894091",
   "metadata": {},
   "outputs": [],
   "source": [
    "movies = movies.dropna(subset = \"year\")"
   ]
  },
  {
   "cell_type": "code",
   "execution_count": 61,
   "id": "a9f2f52f",
   "metadata": {},
   "outputs": [
    {
     "name": "stderr",
     "output_type": "stream",
     "text": [
      "/var/folders/87/p9hpbw597nb9frsx8622mh_c0000gn/T/ipykernel_4474/2446363308.py:1: SettingWithCopyWarning: \n",
      "A value is trying to be set on a copy of a slice from a DataFrame.\n",
      "Try using .loc[row_indexer,col_indexer] = value instead\n",
      "\n",
      "See the caveats in the documentation: https://pandas.pydata.org/pandas-docs/stable/user_guide/indexing.html#returning-a-view-versus-a-copy\n",
      "  movies[\"year\"] = pd.to_datetime(movies[\"year\"])\n"
     ]
    }
   ],
   "source": [
    "movies[\"year\"] = pd.to_datetime(movies[\"year\"])"
   ]
  },
  {
   "cell_type": "code",
   "execution_count": 62,
   "id": "6b0e1e06",
   "metadata": {},
   "outputs": [],
   "source": [
    "def get_decade(date):\n",
    "    return str(date.year // 10 * 10) "
   ]
  },
  {
   "cell_type": "code",
   "execution_count": 63,
   "id": "39bfaa6a",
   "metadata": {},
   "outputs": [
    {
     "name": "stderr",
     "output_type": "stream",
     "text": [
      "/var/folders/87/p9hpbw597nb9frsx8622mh_c0000gn/T/ipykernel_4474/3083149769.py:1: SettingWithCopyWarning: \n",
      "A value is trying to be set on a copy of a slice from a DataFrame.\n",
      "Try using .loc[row_indexer,col_indexer] = value instead\n",
      "\n",
      "See the caveats in the documentation: https://pandas.pydata.org/pandas-docs/stable/user_guide/indexing.html#returning-a-view-versus-a-copy\n",
      "  movies[\"decade\"] = movies[\"year\"].apply(get_decade)\n"
     ]
    }
   ],
   "source": [
    "movies[\"decade\"] = movies[\"year\"].apply(get_decade)"
   ]
  },
  {
   "cell_type": "code",
   "execution_count": 64,
   "id": "16d9f539",
   "metadata": {},
   "outputs": [],
   "source": [
    "decade_count = movies.groupby(\"decade\")[\"movieId\"].nunique().reset_index()"
   ]
  },
  {
   "cell_type": "code",
   "execution_count": 65,
   "id": "53fa57d7",
   "metadata": {},
   "outputs": [
    {
     "data": {
      "text/plain": [
       "[Text(0.5, 1.0, 'Number of Movies Per Decade'),\n",
       " Text(0.5, 0, 'Decade'),\n",
       " Text(0, 0.5, 'Movie Count')]"
      ]
     },
     "execution_count": 65,
     "metadata": {},
     "output_type": "execute_result"
    },
    {
     "data": {
      "image/png": "[encoded data removed]",
      "text/plain": [
       "<Figure size 432x288 with 1 Axes>"
      ]
     },
     "metadata": {
      "needs_background": "light"
     },
     "output_type": "display_data"
    }
   ],
   "source": [
    "sns.barplot(data = decade_count, x = \"decade\", y = \"movieId\").set(title = \"Number of Movies Per Decade\", xlabel = \"Decade\", ylabel = \"Movie Count\")"
   ]
  },
  {
   "cell_type": "markdown",
   "id": "39855b26",
   "metadata": {},
   "source": [
    "From the bar plot we can see that the number of movies per decade is left skewed. We can also see that the number of movies per decade significantly increases from 1900 to 2000, however drops in 2010."
   ]
  },
  {
   "cell_type": "markdown",
   "id": "e9ba7a23-1d5a-4588-8983-e875316621bd",
   "metadata": {
    "tags": []
   },
   "source": [
    "### Q2: \n",
    "Create a visualization that shows the number of movies in each genre.\n",
    "\n",
    "**Hint**: the `pd.DataFrame.explode()` function might be useful here.\n",
    "\n",
    "Be sure that your axis labels are legible!"
   ]
  },
  {
   "cell_type": "code",
   "execution_count": 66,
   "id": "3c6c1961-cb08-4da3-b8cc-4125f383b0da",
   "metadata": {},
   "outputs": [
    {
     "name": "stderr",
     "output_type": "stream",
     "text": [
      "/var/folders/87/p9hpbw597nb9frsx8622mh_c0000gn/T/ipykernel_4474/584055342.py:3: SettingWithCopyWarning: \n",
      "A value is trying to be set on a copy of a slice from a DataFrame.\n",
      "Try using .loc[row_indexer,col_indexer] = value instead\n",
      "\n",
      "See the caveats in the documentation: https://pandas.pydata.org/pandas-docs/stable/user_guide/indexing.html#returning-a-view-versus-a-copy\n",
      "  movies[\"genre\"] = movies.pop(\"genres\").str.split(\"|\")\n"
     ]
    }
   ],
   "source": [
    "# insert your code here\n",
    "\n",
    "movies[\"genre\"] = movies.pop(\"genres\").str.split(\"|\")\n",
    "\n",
    "movies_exploded = movies.explode(\"genre\")"
   ]
  },
  {
   "cell_type": "code",
   "execution_count": 67,
   "id": "a8ad714e",
   "metadata": {},
   "outputs": [],
   "source": [
    "genre_count = movies_exploded.groupby(\"genre\")[\"movieId\"].nunique().reset_index()"
   ]
  },
  {
   "cell_type": "code",
   "execution_count": 68,
   "id": "666afe74",
   "metadata": {},
   "outputs": [
    {
     "data": {
      "text/plain": [
       "[Text(0, 0, '(no genres listed)'),\n",
       " Text(1, 0, 'Action'),\n",
       " Text(2, 0, 'Adventure'),\n",
       " Text(3, 0, 'Animation'),\n",
       " Text(4, 0, 'Children'),\n",
       " Text(5, 0, 'Comedy'),\n",
       " Text(6, 0, 'Crime'),\n",
       " Text(7, 0, 'Documentary'),\n",
       " Text(8, 0, 'Drama'),\n",
       " Text(9, 0, 'Fantasy'),\n",
       " Text(10, 0, 'Film-Noir'),\n",
       " Text(11, 0, 'Horror'),\n",
       " Text(12, 0, 'IMAX'),\n",
       " Text(13, 0, 'Musical'),\n",
       " Text(14, 0, 'Mystery'),\n",
       " Text(15, 0, 'Romance'),\n",
       " Text(16, 0, 'Sci-Fi'),\n",
       " Text(17, 0, 'Thriller'),\n",
       " Text(18, 0, 'War'),\n",
       " Text(19, 0, 'Western')]"
      ]
     },
     "execution_count": 68,
     "metadata": {},
     "output_type": "execute_result"
    },
    {
     "data": {
      "image/png": "[encoded data removed]",
      "text/plain": [
       "<Figure size 432x288 with 1 Axes>"
      ]
     },
     "metadata": {
      "needs_background": "light"
     },
     "output_type": "display_data"
    }
   ],
   "source": [
    "ax = sns.barplot(data=genre_count, x=\"genre\", y=\"movieId\")\n",
    "ax.set(title=\"Number of Movies Per Genre\", xlabel=\"Genre\", ylabel=\"Movie Count\")\n",
    "ax.set_xticklabels(ax.get_xticklabels(), rotation=80)\n"
   ]
  },
  {
   "cell_type": "markdown",
   "id": "98a5e4e0",
   "metadata": {},
   "source": [
    "From the bar plot above, we can see that Comedies and Dramas have the most movies in this data set. Conversely, we see that Film-Noir, iMAX, and Western have the least."
   ]
  },
  {
   "cell_type": "markdown",
   "id": "a026eef1-87e1-4ad6-879d-9256eea1c131",
   "metadata": {},
   "source": [
    "### Q3a: \n",
    "Create a visualization showing the distribution of the values from the `rating` column of the `ratings` DataFrame.  \n"
   ]
  },
  {
   "cell_type": "code",
   "execution_count": 69,
   "id": "8a66c5ec",
   "metadata": {},
   "outputs": [
    {
     "data": {
      "text/plain": [
       "[Text(0.5, 1.0, 'Ratings Distribution'), Text(0.5, 0, 'Rating')]"
      ]
     },
     "execution_count": 69,
     "metadata": {},
     "output_type": "execute_result"
    },
    {
     "data": {
      "image/png": "[encoded data removed]",
      "text/plain": [
       "<Figure size 432x288 with 1 Axes>"
      ]
     },
     "metadata": {
      "needs_background": "light"
     },
     "output_type": "display_data"
    }
   ],
   "source": [
    "sns.histplot(data = ratings, x=\"rating\").set(title = \"Ratings Distribution\", xlabel = \"Rating\")"
   ]
  },
  {
   "cell_type": "code",
   "execution_count": 70,
   "id": "7f1801cf",
   "metadata": {},
   "outputs": [
    {
     "data": {
      "text/plain": [
       "[Text(0.5, 1.0, 'Ratings Distribution'), Text(0, 0.5, 'Rating')]"
      ]
     },
     "execution_count": 70,
     "metadata": {},
     "output_type": "execute_result"
    },
    {
     "data": {
      "image/png": "[encoded data removed]",
      "text/plain": [
       "<Figure size 432x288 with 1 Axes>"
      ]
     },
     "metadata": {
      "needs_background": "light"
     },
     "output_type": "display_data"
    }
   ],
   "source": [
    "sns.boxplot(data = ratings, y=\"rating\").set(title = \"Ratings Distribution\", ylabel = \"Rating\")"
   ]
  },
  {
   "cell_type": "markdown",
   "id": "e811a2eb",
   "metadata": {},
   "source": [
    "From the histogram, we can see that the highest rating counts occur on ratings with whole numbers rather than ratings with decimals. From the boxplot, we can see than the median rating score is around 3.5 with somewhat symmetrical distribution."
   ]
  },
  {
   "cell_type": "markdown",
   "id": "60e5aa11-46b7-4614-8500-ef4c1c5ff4af",
   "metadata": {},
   "source": [
    "### Q3b:\n",
    "What do you notice about the relative number of whole-number ratings (1,2,3,4,and 5) compared to the half-ratings (0.5, 1.5, 2.5, 3.5, 4.5)?  Investigate the data further to see if you can figure out why that's the case.  (Hint: a scatterplot showing the ratings vs. time might be helpful.)"
   ]
  },
  {
   "cell_type": "markdown",
   "id": "8a94a151-5680-466a-88fe-64e0a9a9e67a",
   "metadata": {},
   "source": [
    "The highest rating counts occur on ratings with whole numbers rather than ratings with decimals."
   ]
  },
  {
   "cell_type": "code",
   "execution_count": 71,
   "id": "0765f893-0fd0-436c-ab47-6e22e171e785",
   "metadata": {},
   "outputs": [],
   "source": [
    "# insert your code here\n",
    "\n",
    "def convert_time(time):\n",
    "    return datetime.fromtimestamp(time)\n",
    "\n",
    "ratings[\"timestamp\"] = ratings[\"timestamp\"].apply(convert_time)"
   ]
  },
  {
   "cell_type": "code",
   "execution_count": 72,
   "id": "3807f991",
   "metadata": {},
   "outputs": [
    {
     "data": {
      "text/plain": [
       "[Text(0.5, 1.0, 'Rating vs. Timestamp'),\n",
       " Text(0.5, 0, 'Rating'),\n",
       " Text(0, 0.5, 'Timestamp')]"
      ]
     },
     "execution_count": 72,
     "metadata": {},
     "output_type": "execute_result"
    },
    {
     "data": {
      "image/png": "[encoded data removed]",
      "text/plain": [
       "<Figure size 432x288 with 1 Axes>"
      ]
     },
     "metadata": {
      "needs_background": "light"
     },
     "output_type": "display_data"
    }
   ],
   "source": [
    "sns.scatterplot(data = ratings, x = \"rating\", y = \"timestamp\").set(title = \"Rating vs. Timestamp\", xlabel = \"Rating\", ylabel = \"Timestamp\")\n"
   ]
  },
  {
   "cell_type": "markdown",
   "id": "246c1f3d",
   "metadata": {},
   "source": [
    "From the scatterplot, we can see that no half ratings occur before 2004. Therefore, a reason as to why their are less half number ratings compared to whole number ratings in the previous problem is due to the fact that half ratings were added / allowed after 2004."
   ]
  },
  {
   "cell_type": "markdown",
   "id": "eaf33988-d115-49e1-b966-9d3495e10478",
   "metadata": {},
   "source": [
    "### Q4:\n",
    "Write code to confirm the assertion that the ratings [\"were created by 610 users between March 29, 1996 and September 24, 2018.\"](https://files.grouplens.org/datasets/movielens/ml-latest-small-README.html)."
   ]
  },
  {
   "cell_type": "code",
   "execution_count": 73,
   "id": "d97ab38b-d2e6-4f0c-b6a3-0f4974b2c8e9",
   "metadata": {},
   "outputs": [
    {
     "data": {
      "text/plain": [
       "610"
      ]
     },
     "execution_count": 73,
     "metadata": {},
     "output_type": "execute_result"
    }
   ],
   "source": [
    "start_date = pd.to_datetime('1996-03-29')\n",
    "end_date = pd.to_datetime('2018-09-24')\n",
    "\n",
    "\n",
    "filtered_df = ratings[(ratings['timestamp'] >= start_date) & (ratings['timestamp'] <= end_date)]\n",
    "\n",
    "filtered_df[\"userId\"].nunique()\n"
   ]
  },
  {
   "cell_type": "markdown",
   "id": "6aa2b6d2",
   "metadata": {},
   "source": [
    "First, I filtered the ratings data to only have rows with timestamps between 1996-03-29 and 2018-09-24. Then, I counted the number of unique users between that time frame."
   ]
  },
  {
   "cell_type": "markdown",
   "id": "5bc0716e-f441-4aa0-a245-61653cac4c0b",
   "metadata": {},
   "source": [
    "### Q5:\n",
    "Create a visualization showing the number of ratings produced on each day of the week.  \n",
    "\n",
    "Hint: the `pd.to_datetime()` function might be useful here, as well as the `dt` accessor.\n",
    "\n",
    "Make sure your axis labels are in a reasonable order."
   ]
  },
  {
   "cell_type": "code",
   "execution_count": 74,
   "id": "4c31e273-9c2f-4048-8e51-a50adb430788",
   "metadata": {},
   "outputs": [
    {
     "data": {
      "text/plain": [
       "[Text(0, 0, 'Monday'),\n",
       " Text(1, 0, 'Tuesday'),\n",
       " Text(2, 0, 'Wednesday'),\n",
       " Text(3, 0, 'Thursday'),\n",
       " Text(4, 0, 'Friday'),\n",
       " Text(5, 0, 'Saturday'),\n",
       " Text(6, 0, 'Sunday')]"
      ]
     },
     "execution_count": 74,
     "metadata": {},
     "output_type": "execute_result"
    },
    {
     "data": {
      "image/png": "[encoded data removed]",
      "text/plain": [
       "<Figure size 432x288 with 1 Axes>"
      ]
     },
     "metadata": {
      "needs_background": "light"
     },
     "output_type": "display_data"
    }
   ],
   "source": [
    "# insert your code here\n",
    "\n",
    "ratings['day_of_week'] = ratings['timestamp'].dt.day_name()\n",
    "\n",
    "rating_count =ratings.groupby(\"day_of_week\")[\"rating\"].count().reset_index()\n",
    "\n",
    "days_order = ['Monday', 'Tuesday', 'Wednesday', 'Thursday', 'Friday', 'Saturday', 'Sunday']\n",
    "\n",
    "ax = sns.barplot(data=rating_count, x=\"day_of_week\", y=\"rating\", order=days_order)\n",
    "ax.set(title=\"Number of Ratings Per Day\", xlabel=\"Day\", ylabel=\"Rating Count\")\n",
    "ax.set_xticklabels(ax.get_xticklabels(), rotation=45)"
   ]
  },
  {
   "cell_type": "markdown",
   "id": "ab6c86a8",
   "metadata": {},
   "source": [
    "From the bar plot, we can see that the number of rating per day is somewhat symetrical. The days with the most ratings occur on Monday's and Sunday's. The day with the least number of ratings occur on Thursday's."
   ]
  },
  {
   "cell_type": "markdown",
   "id": "f860d725-0b0f-4f41-b770-9836d0da2235",
   "metadata": {},
   "source": [
    "### Q6a:\n",
    "\n",
    "Create a new column called `taglength` in the `tags` DataFrame that contains the number of **characters** in the tag.\n",
    "\n",
    "**Hint:** the `str.len()` function might be useful here."
   ]
  },
  {
   "cell_type": "code",
   "execution_count": 75,
   "id": "931fe2d4-60e8-4696-a0b5-04111df1abc4",
   "metadata": {},
   "outputs": [
    {
     "data": {
      "text/html": [
       "<div>\n",
       "<style scoped>\n",
       "    .dataframe tbody tr th:only-of-type {\n",
       "        vertical-align: middle;\n",
       "    }\n",
       "\n",
       "    .dataframe tbody tr th {\n",
       "        vertical-align: top;\n",
       "    }\n",
       "\n",
       "    .dataframe thead th {\n",
       "        text-align: right;\n",
       "    }\n",
       "</style>\n",
       "<table border=\"1\" class=\"dataframe\">\n",
       "  <thead>\n",
       "    <tr style=\"text-align: right;\">\n",
       "      <th></th>\n",
       "      <th>userId</th>\n",
       "      <th>movieId</th>\n",
       "      <th>tag</th>\n",
       "      <th>timestamp</th>\n",
       "      <th>taglength</th>\n",
       "    </tr>\n",
       "  </thead>\n",
       "  <tbody>\n",
       "    <tr>\n",
       "      <th>0</th>\n",
       "      <td>2</td>\n",
       "      <td>60756</td>\n",
       "      <td>funny</td>\n",
       "      <td>1445714994</td>\n",
       "      <td>5</td>\n",
       "    </tr>\n",
       "    <tr>\n",
       "      <th>1</th>\n",
       "      <td>2</td>\n",
       "      <td>60756</td>\n",
       "      <td>Highly quotable</td>\n",
       "      <td>1445714996</td>\n",
       "      <td>15</td>\n",
       "    </tr>\n",
       "    <tr>\n",
       "      <th>2</th>\n",
       "      <td>2</td>\n",
       "      <td>60756</td>\n",
       "      <td>will ferrell</td>\n",
       "      <td>1445714992</td>\n",
       "      <td>12</td>\n",
       "    </tr>\n",
       "    <tr>\n",
       "      <th>3</th>\n",
       "      <td>2</td>\n",
       "      <td>89774</td>\n",
       "      <td>Boxing story</td>\n",
       "      <td>1445715207</td>\n",
       "      <td>12</td>\n",
       "    </tr>\n",
       "    <tr>\n",
       "      <th>4</th>\n",
       "      <td>2</td>\n",
       "      <td>89774</td>\n",
       "      <td>MMA</td>\n",
       "      <td>1445715200</td>\n",
       "      <td>3</td>\n",
       "    </tr>\n",
       "    <tr>\n",
       "      <th>...</th>\n",
       "      <td>...</td>\n",
       "      <td>...</td>\n",
       "      <td>...</td>\n",
       "      <td>...</td>\n",
       "      <td>...</td>\n",
       "    </tr>\n",
       "    <tr>\n",
       "      <th>3678</th>\n",
       "      <td>606</td>\n",
       "      <td>7382</td>\n",
       "      <td>for katie</td>\n",
       "      <td>1171234019</td>\n",
       "      <td>9</td>\n",
       "    </tr>\n",
       "    <tr>\n",
       "      <th>3679</th>\n",
       "      <td>606</td>\n",
       "      <td>7936</td>\n",
       "      <td>austere</td>\n",
       "      <td>1173392334</td>\n",
       "      <td>7</td>\n",
       "    </tr>\n",
       "    <tr>\n",
       "      <th>3680</th>\n",
       "      <td>610</td>\n",
       "      <td>3265</td>\n",
       "      <td>gun fu</td>\n",
       "      <td>1493843984</td>\n",
       "      <td>6</td>\n",
       "    </tr>\n",
       "    <tr>\n",
       "      <th>3681</th>\n",
       "      <td>610</td>\n",
       "      <td>3265</td>\n",
       "      <td>heroic bloodshed</td>\n",
       "      <td>1493843978</td>\n",
       "      <td>16</td>\n",
       "    </tr>\n",
       "    <tr>\n",
       "      <th>3682</th>\n",
       "      <td>610</td>\n",
       "      <td>168248</td>\n",
       "      <td>Heroic Bloodshed</td>\n",
       "      <td>1493844270</td>\n",
       "      <td>16</td>\n",
       "    </tr>\n",
       "  </tbody>\n",
       "</table>\n",
       "<p>3683 rows × 5 columns</p>\n",
       "</div>"
      ],
      "text/plain": [
       "      userId  movieId               tag   timestamp  taglength\n",
       "0          2    60756             funny  1445714994          5\n",
       "1          2    60756   Highly quotable  1445714996         15\n",
       "2          2    60756      will ferrell  1445714992         12\n",
       "3          2    89774      Boxing story  1445715207         12\n",
       "4          2    89774               MMA  1445715200          3\n",
       "...      ...      ...               ...         ...        ...\n",
       "3678     606     7382         for katie  1171234019          9\n",
       "3679     606     7936           austere  1173392334          7\n",
       "3680     610     3265            gun fu  1493843984          6\n",
       "3681     610     3265  heroic bloodshed  1493843978         16\n",
       "3682     610   168248  Heroic Bloodshed  1493844270         16\n",
       "\n",
       "[3683 rows x 5 columns]"
      ]
     },
     "execution_count": 75,
     "metadata": {},
     "output_type": "execute_result"
    }
   ],
   "source": [
    "# insert your code here\n",
    "\n",
    "def tag_length(tag):\n",
    "    return len(tag) \n",
    "\n",
    "tags[\"taglength\"] = tags[\"tag\"].apply(tag_length)\n",
    "\n",
    "tags"
   ]
  },
  {
   "cell_type": "markdown",
   "id": "f114343f",
   "metadata": {},
   "source": [
    "I used the len() function to count the number of characters in the tag column (including spaces) and saved it in a column called \"taglength\"."
   ]
  },
  {
   "cell_type": "markdown",
   "id": "6f81e312-bc0a-44c5-b9ba-5ce5e5931adc",
   "metadata": {},
   "source": [
    "### Q6b: \n",
    "Create a histogram of your newly created `taglength` column.  Experiment with different numbers of bins (or binwidths) until you're happy with the representation."
   ]
  },
  {
   "cell_type": "code",
   "execution_count": 92,
   "id": "d0935b2c",
   "metadata": {},
   "outputs": [
    {
     "data": {
      "text/plain": [
       "[Text(0.5, 1.0, 'Tag Length Distribution'), Text(0.5, 0, 'Tag Length')]"
      ]
     },
     "execution_count": 92,
     "metadata": {},
     "output_type": "execute_result"
    },
    {
     "data": {
      "image/png": "[encoded data removed]",
      "text/plain": [
       "<Figure size 432x288 with 1 Axes>"
      ]
     },
     "metadata": {
      "needs_background": "light"
     },
     "output_type": "display_data"
    }
   ],
   "source": [
    "# insert your code here\n",
    "\n",
    "\n",
    "sns.histplot(data = tags, x=\"taglength\", bins = 80).set(title = \"Tag Length Distribution\", xlabel = \"Tag Length\")\n"
   ]
  },
  {
   "cell_type": "markdown",
   "id": "7dc2f3d7",
   "metadata": {},
   "source": [
    "From the histogram above, we can see that the tag length distribution is right skewed. There tends to be the most tags with lengths between 0 to 20 characters, with a peak around 7 characters."
   ]
  },
  {
   "cell_type": "markdown",
   "id": "38ee632f",
   "metadata": {},
   "source": [
    "### Q7:\n",
    "Create a visualization that shows the average rating for each genre.\n"
   ]
  },
  {
   "cell_type": "code",
   "execution_count": 77,
   "id": "4a26fbad",
   "metadata": {},
   "outputs": [],
   "source": [
    "# insert your code here"
   ]
  },
  {
   "cell_type": "code",
   "execution_count": 78,
   "id": "4d2b1659",
   "metadata": {},
   "outputs": [],
   "source": [
    "rating_and_movies = pd.merge(movies_exploded, ratings, on='movieId', how='inner')"
   ]
  },
  {
   "cell_type": "code",
   "execution_count": 79,
   "id": "79136bbf",
   "metadata": {},
   "outputs": [],
   "source": [
    "genre_mean = rating_and_movies.groupby(\"genre\")[\"rating\"].mean().reset_index()"
   ]
  },
  {
   "cell_type": "code",
   "execution_count": 80,
   "id": "e982256e",
   "metadata": {},
   "outputs": [
    {
     "data": {
      "text/plain": [
       "[Text(0, 0, '(no genres listed)'),\n",
       " Text(1, 0, 'Action'),\n",
       " Text(2, 0, 'Adventure'),\n",
       " Text(3, 0, 'Animation'),\n",
       " Text(4, 0, 'Children'),\n",
       " Text(5, 0, 'Comedy'),\n",
       " Text(6, 0, 'Crime'),\n",
       " Text(7, 0, 'Documentary'),\n",
       " Text(8, 0, 'Drama'),\n",
       " Text(9, 0, 'Fantasy'),\n",
       " Text(10, 0, 'Film-Noir'),\n",
       " Text(11, 0, 'Horror'),\n",
       " Text(12, 0, 'IMAX'),\n",
       " Text(13, 0, 'Musical'),\n",
       " Text(14, 0, 'Mystery'),\n",
       " Text(15, 0, 'Romance'),\n",
       " Text(16, 0, 'Sci-Fi'),\n",
       " Text(17, 0, 'Thriller'),\n",
       " Text(18, 0, 'War'),\n",
       " Text(19, 0, 'Western')]"
      ]
     },
     "execution_count": 80,
     "metadata": {},
     "output_type": "execute_result"
    },
    {
     "data": {
      "image/png": "[encoded data removed]",
      "text/plain": [
       "<Figure size 432x288 with 1 Axes>"
      ]
     },
     "metadata": {
      "needs_background": "light"
     },
     "output_type": "display_data"
    }
   ],
   "source": [
    "ax = sns.barplot(data=genre_mean, x=\"genre\", y=\"rating\")\n",
    "ax.set(title=\"Mean Rating Per Genre\", xlabel=\"Genre\", ylabel=\"Mean Rating\")\n",
    "ax.set_xticklabels(ax.get_xticklabels(), rotation=80)"
   ]
  },
  {
   "cell_type": "markdown",
   "id": "d26eb032",
   "metadata": {},
   "source": [
    "The bar plot above of the avergae rating per genre is pretty uniform. The genre with the highest mean rating is Film-Noir and the genre with the lowest mean rating is Horror."
   ]
  },
  {
   "cell_type": "markdown",
   "id": "df3109b1",
   "metadata": {},
   "source": [
    "### Q8:\n",
    "Create a visualization that shows the distribution of the **number** of ratings of \"good\" movies (i.e., those with a mean rating of 3.5 or highter) and \"bad\" movies (i.e., those with a mean rating of less than 3.5), broken down by the decade when the movie was released.\n",
    "\n",
    "**Hint:** You will need to join the `movies` and `ratings` DataFrames to get the decade information.\n",
    "\n",
    "**Hint:** You may want to create a box plot or a violin plot (or both)."
   ]
  },
  {
   "cell_type": "code",
   "execution_count": 94,
   "id": "0cd20f9f",
   "metadata": {},
   "outputs": [
    {
     "data": {
      "text/plain": [
       "[Text(0.5, 1.0, 'Rating Count Distribution Per Decade and Overall Score'),\n",
       " Text(0.5, 6.800000000000011, 'Decade'),\n",
       " Text(6.800000000000011, 0.5, 'Rating Count')]"
      ]
     },
     "execution_count": 94,
     "metadata": {},
     "output_type": "execute_result"
    },
    {
     "data": {
      "image/png": "[encoded data removed]",
      "text/plain": [
       "<Figure size 864x432 with 1 Axes>"
      ]
     },
     "metadata": {
      "needs_background": "light"
     },
     "output_type": "display_data"
    }
   ],
   "source": [
    "# insert your code here\n",
    "\n",
    "def good_or_bad(rating):\n",
    "    if rating >= 3.5:\n",
    "        return \"Good\"\n",
    "    return \"Bad\"\n",
    "\n",
    "rating_and_movies2 = pd.merge(movies, ratings, on='movieId', how='inner')\n",
    "\n",
    "rating_and_movies2[\"Overall Score\"] = rating_and_movies2[\"rating\"].apply(good_or_bad)\n",
    "\n",
    "movie_count = rating_and_movies2.groupby(\"movieId\")[\"rating\"].count()\n",
    "\n",
    "merged_movie_count = pd.merge(rating_and_movies2, movie_count, on='movieId', how='inner')\n",
    "\n",
    "decade_order = ['1900', '1910', '1920', '1930', '1940', '1950', '1960', '1970', '1980', '1990', '2000', \"2010\"]\n",
    "\n",
    "sns.relplot(height=6, aspect=2)\n",
    "sns.boxplot(data=merged_movie_count, x=\"decade\", y=\"rating_y\", hue=\"Overall Score\", order = decade_order).set(title = \"Rating Count Distribution Per Decade and Overall Score\", xlabel = \"Decade\", ylabel = \"Rating Count\")"
   ]
  },
  {
   "cell_type": "markdown",
   "id": "d34aea40",
   "metadata": {},
   "source": [
    "The boxplots show the distribution of rating counts across decades and overall score. As we can see above, the highest median rating count occurs in 1990 for movies with \"good\" scores. We can also see that the spread in 1990 and 1970 is the largest, with the smallest spreads being in 1910 and 1900."
   ]
  },
  {
   "cell_type": "markdown",
   "id": "3d295e73-728b-4013-bada-acaf58b0bc5d",
   "metadata": {},
   "source": [
    "## END OF NOTEBOOK"
   ]
  }
 ],
 "metadata": {
  "kernelspec": {
   "display_name": "Python 3 (ipykernel)",
   "language": "python",
   "name": "python3"
  },
  "language_info": {
   "codemirror_mode": {
    "name": "ipython",
    "version": 3
   },
   "file_extension": ".py",
   "mimetype": "text/x-python",
   "name": "python",
   "nbconvert_exporter": "python",
   "pygments_lexer": "ipython3",
   "version": "3.9.12"
  }
 },
 "nbformat": 4,
 "nbformat_minor": 5
}
