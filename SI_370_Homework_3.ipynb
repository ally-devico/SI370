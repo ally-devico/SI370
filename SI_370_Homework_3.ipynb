{
 "cells": [
  {
   "cell_type": "markdown",
   "metadata": {},
   "source": [
    "# SI 370 Homework #3\n",
    "\n",
    "## Taylor Swift songs\n",
    "\n",
    "Last updated 2023-10-04\n"
   ]
  },
  {
   "cell_type": "markdown",
   "metadata": {},
   "source": [
    "The dataset for this assignment is from https://www.kaggle.com/datasets/jarredpriester/taylor-swift-spotify-dataset/data.\n",
    "\n",
    "**NOTE**: Use the dataset from Canvas rather than the dataset from Kaggle, which is updated frequently and may change while you are completing this assignment.\n",
    "\n",
    "This dataset consist of data from Spotify's API on all albums listed on Spotify for Taylor Swift. I set up the dataset to update monthly so that if any albums get added it will get added to the dataset too. At first it may look like there are song duplicates but I checked and all song IDs are unique.\n",
    "\n",
    "The columns in this dataset are:\n",
    "\n",
    "name - the name of the song\n",
    "\n",
    "album - the name of the album\n",
    "\n",
    "release_date - the day month and year the album was released\n",
    "\n",
    "track number - the order the song appears on the album\n",
    "\n",
    "id - the Spotify id for the song\n",
    "\n",
    "uri - the Spotify uri for the song\n",
    "\n",
    "acousticness - A confidence measure from 0.0 to 1.0 of whether the track is acoustic. 1.0 represents high confidence the track is acoustic.\n",
    "\n",
    "danceability - Danceability describes how suitable a track is for dancing based on a combination of musical elements including tempo, rhythm stability, beat strength, and overall regularity. A value of 0.0 is least danceable and 1.0 is most danceable.\n",
    "\n",
    "energy - Energy is a measure from 0.0 to 1.0 and represents a perceptual measure of intensity and activity. Typically, energetic tracks feel fast, loud, and noisy. For example, death metal has high energy, while a Bach prelude scores low on the scale. Perceptual features contributing to this attribute include dynamic range, perceived loudness, timbre, onset rate, and general entropy.\n",
    "\n",
    "instrumentalness - Predicts whether a track contains no vocals. \"Ooh\" and \"aah\" sounds are treated as instrumental in this context. Rap or spoken word tracks are clearly \"vocal\". The closer the instrumentalness value is to 1.0, the greater likelihood the track contains no vocal content. Values above 0.5 are intended to represent instrumental tracks, but confidence is higher as the value approaches 1.0.\n",
    "\n",
    "liveness - Detects the presence of an audience in the recording. Higher liveness values represent an increased probability that the track was performed live. A value above 0.8 provides strong likelihood that the track is live.\n",
    "\n",
    "loudness - The overall loudness of a track in decibels (dB). Loudness values are averaged across the entire track and are useful for comparing relative loudness of tracks. Loudness is the quality of a sound that is the primary psychological correlate of physical strength (amplitude). Values typically range between -60 and 0 db.\n",
    "\n",
    "speechiness - detects the presence of spoken words in a track. The more exclusively speech-like the recording (e.g. talk show, audio book, poetry), the closer to 1.0 the attribute value. Values above 0.66 describe tracks that are probably made entirely of spoken words. Values between 0.33 and 0.66 describe tracks that may contain both music and speech, either in sections or layered, including such cases as rap music. Values below 0.33 most likely represent music and other non-speech-like tracks.\n",
    "\n",
    "tempo - The overall estimated tempo of a track in beats per minute (BPM). In musical terminology, tempo is the speed or pace of a given piece and derives directly from the average beat duration.\n",
    "\n",
    "valence - A measure from 0.0 to 1.0 describing the musical positiveness conveyed by a track. Tracks with high valence sound more positive (e.g. happy, cheerful, euphoric), while tracks with low valence sound more negative (e.g. sad, depressed, angry).\n",
    "\n",
    "popularity - the popularity of the song from 0 to 100\n",
    "\n",
    "duration_ms - The duration of the track in milliseconds.\n"
   ]
  },
  {
   "cell_type": "markdown",
   "metadata": {},
   "source": [
    "We are going to refer to the tracks' properties of danceability, energy, instrumentalness, liveness, loudness, speechiness, tempo, and valence as \"features\" of the tracks.\n"
   ]
  },
  {
   "cell_type": "markdown",
   "metadata": {},
   "source": [
    "Each of the questions is worth the same number of points, except for the final bonus question, which is worth up to an additional 1 point (out of 20). Points will be allocated according to the following rubric:\n",
    "\n",
    "- 90-100%: Question is correctly and completely answered. Answer consists of well-written code that conforms to [PEP 8](https://www.python.org/dev/peps/pep-0008/) guidelines and is\n",
    "  accompanied by a written interpretation in a Markdown block. Written interpretation does not contain spelling, grammar or stylistic errors (see [Strunk & White](https://drive.google.com/file/d/1L0P7xJwjUGBvyb49mL3dw1Bt7hzRTiTl/view?usp=sharing) for a detailed specifications). Minor problems, such as formatting, incorrect submissions, missing names, etc. will result in less than 100%.\n",
    "- 75-85% : Answer is mostly complete and correct; two or fewer noticeable omissions or errors. Minor stylistic flaws, either in code or in\n",
    "  written interpretation.\n",
    "- 50-70%: Answer has significant omissions or errors; Noticeable departure from PEP-8 guildelines and/or moderate spelling, grammar, or style issues\n",
    "  in written interpretations.\n",
    "- 25-45%: Question is perfunctorily attempted. Substantial parts are missing or incorrect.\n",
    "- 0 points: Question not attempted.\n",
    "\n",
    "Be sure to include interpretations of your results for each question.\n"
   ]
  },
  {
   "cell_type": "markdown",
   "metadata": {},
   "source": [
    "Q1: Show the distribution of the popularity of the songs. Then exclude the songs that are from karaoke albums (i.e., the album name contains \"karaoke\"). Show the distribution of the popularity of the songs. What is the difference between the two distributions?\n"
   ]
  },
  {
   "cell_type": "code",
   "execution_count": 221,
   "metadata": {},
   "outputs": [],
   "source": [
    "import pandas as pd\n",
    "import seaborn as sns\n"
   ]
  },
  {
   "cell_type": "code",
   "execution_count": 222,
   "metadata": {
    "vscode": {
     "languageId": "plaintext"
    }
   },
   "outputs": [],
   "source": [
    "songs = pd.read_csv('../data/taylor_swift_spotify.csv', index_col=0)\n"
   ]
  },
  {
   "cell_type": "code",
   "execution_count": 245,
   "metadata": {},
   "outputs": [
    {
     "data": {
      "text/plain": [
       "[Text(0.5, 1.0, \"Distribution of Taylor Swift's Popularity for ALL Songs\"),\n",
       " Text(0, 0.5, ' Popularity Score')]"
      ]
     },
     "execution_count": 245,
     "metadata": {},
     "output_type": "execute_result"
    },
    {
     "data": {
      "image/png": "[encoded data removed]",
      "text/plain": [
       "<Figure size 432x288 with 1 Axes>"
      ]
     },
     "metadata": {
      "needs_background": "light"
     },
     "output_type": "display_data"
    }
   ],
   "source": [
    "sns.boxplot(data=songs, y=\"popularity\").set(\n",
    "    title=\"Distribution of Taylor Swift's Popularity for ALL Songs\", ylabel=\" Popularity Score\")\n"
   ]
  },
  {
   "cell_type": "code",
   "execution_count": 224,
   "metadata": {},
   "outputs": [],
   "source": [
    "no_karaoke = songs[~songs['album'].str.contains('Karaoke')]\n"
   ]
  },
  {
   "cell_type": "code",
   "execution_count": 246,
   "metadata": {},
   "outputs": [
    {
     "data": {
      "text/plain": [
       "[Text(0.5, 1.0, \"Distribution of Taylor Swift's Popularity for Non-Karaoke Songs\"),\n",
       " Text(0, 0.5, ' Popularity Score')]"
      ]
     },
     "execution_count": 246,
     "metadata": {},
     "output_type": "execute_result"
    },
    {
     "data": {
      "image/png": "[encoded data removed]",
      "text/plain": [
       "<Figure size 432x288 with 1 Axes>"
      ]
     },
     "metadata": {
      "needs_background": "light"
     },
     "output_type": "display_data"
    }
   ],
   "source": [
    "sns.boxplot(data=no_karaoke, y=\"popularity\").set(\n",
    "    title=\"Distribution of Taylor Swift's Popularity for Non-Karaoke Songs\", ylabel=\" Popularity Score\")\n"
   ]
  },
  {
   "cell_type": "markdown",
   "metadata": {},
   "source": [
    "From the boxplot above, we can see that the distribution of popularity scores for both all songs and non-karoke songs is roughly symetterical. However, we can see that the median popularity for non-karaoke songs is slightly higher (roughly 45 over 42).\n"
   ]
  },
  {
   "cell_type": "markdown",
   "metadata": {},
   "source": [
    "### <font color='magenta'>IMPORTANT NOTE: the remainder of the questions are based on the songs that are NOT from karaoke albums.</font>\n"
   ]
  },
  {
   "cell_type": "markdown",
   "metadata": {},
   "source": [
    "Q2: Report the average track duration for each album. You answer should be in mm:ss (minutes:seconds) format rather than the milliseconds that are reported in the original dataset.\n"
   ]
  },
  {
   "cell_type": "code",
   "execution_count": 226,
   "metadata": {},
   "outputs": [],
   "source": [
    "import datetime\n"
   ]
  },
  {
   "cell_type": "code",
   "execution_count": 227,
   "metadata": {
    "vscode": {
     "languageId": "plaintext"
    }
   },
   "outputs": [],
   "source": [
    "def convert_to_minutes_and_seconds(milliseconds):\n",
    "    seconds = milliseconds / 1000\n",
    "    minutes = seconds // 60\n",
    "    remaining_seconds = seconds % 60\n",
    "    duration = datetime.timedelta(minutes=minutes, seconds=remaining_seconds)\n",
    "    return duration\n"
   ]
  },
  {
   "cell_type": "code",
   "execution_count": 228,
   "metadata": {},
   "outputs": [
    {
     "name": "stderr",
     "output_type": "stream",
     "text": [
      "/var/folders/87/p9hpbw597nb9frsx8622mh_c0000gn/T/ipykernel_48774/1209330502.py:1: SettingWithCopyWarning: \n",
      "A value is trying to be set on a copy of a slice from a DataFrame.\n",
      "Try using .loc[row_indexer,col_indexer] = value instead\n",
      "\n",
      "See the caveats in the documentation: https://pandas.pydata.org/pandas-docs/stable/user_guide/indexing.html#returning-a-view-versus-a-copy\n",
      "  no_karaoke['duration_mm:ss'] = no_karaoke['duration_ms'].apply(convert_to_minutes_and_seconds)\n"
     ]
    }
   ],
   "source": [
    "no_karaoke['duration_mm:ss'] = no_karaoke['duration_ms'].apply(\n",
    "    convert_to_minutes_and_seconds)\n"
   ]
  },
  {
   "cell_type": "code",
   "execution_count": 248,
   "metadata": {},
   "outputs": [
    {
     "data": {
      "text/plain": [
       "album\n",
       "Taylor Swift (Big Machine Radio Release Special)                                      0 days 00:02:26.541966666\n",
       "Fearless (Big Machine Radio Release Special)                                          0 days 00:02:33.937615384\n",
       "1989 (Big Machine Radio Release Special)                                              0 days 00:02:37.213307692\n",
       "Red (Big Machine Radio Release Special)                                               0 days 00:02:38.172593750\n",
       "reputation (Big Machine Radio Release Special)                                        0 days 00:02:44.270354838\n",
       "Speak Now (Big Machine Radio Release Special)                                         0 days 00:02:59.268464285\n",
       "Midnights                                                                             0 days 00:03:23.718307692\n",
       "Lover                                                                                 0 days 00:03:26.187833333\n",
       "Midnights (3am Edition)                                                                  0 days 00:03:28.463200\n",
       "Live From Clear Channel Stripped 2008                                                    0 days 00:03:29.469375\n",
       "Taylor Swift                                                                          0 days 00:03:33.971133333\n",
       "1989 (Deluxe)                                                                         0 days 00:03:37.139368421\n",
       "1989 (Deluxe Edition)                                                                 0 days 00:03:41.456617647\n",
       "reputation                                                                               0 days 00:03:43.020000\n",
       "1989                                                                                  0 days 00:03:45.220307692\n",
       "folklore (deluxe version)                                                             0 days 00:03:56.964147058\n",
       "folklore: the long pond studio sessions (from the Disney+ special) [deluxe edition]   0 days 00:03:57.682985294\n",
       "folklore                                                                              0 days 00:03:58.536687500\n",
       "Fearless                                                                              0 days 00:04:00.446841269\n",
       "Fearless (International Version)                                                         0 days 00:04:00.495500\n",
       "reputation Stadium Tour Surprise Song Playlist                                        0 days 00:04:02.956260869\n",
       "evermore                                                                                 0 days 00:04:03.014000\n",
       "evermore (deluxe version)                                                             0 days 00:04:03.816235294\n",
       "Red                                                                                   0 days 00:04:04.802843750\n",
       "Fearless (Taylor's Version)                                                              0 days 00:04:05.865000\n",
       "Red (Deluxe Edition)                                                                     0 days 00:04:06.671250\n",
       "Fearless (Platinum Edition)                                                           0 days 00:04:10.874105263\n",
       "Fearless Platinum Edition                                                             0 days 00:04:10.874789473\n",
       "Red (Taylor's Version)                                                                0 days 00:04:21.327666666\n",
       "Speak Now (Deluxe Edition)                                                               0 days 00:04:35.520350\n",
       "Speak Now (Deluxe Package)                                                               0 days 00:04:35.969500\n",
       "Speak Now (Japanese Version)                                                             0 days 00:04:46.343875\n",
       "Speak Now                                                                             0 days 00:04:47.283928571\n",
       "Speak Now (US Version)                                                                0 days 00:04:47.357785714\n",
       "Speak Now World Tour Live                                                             0 days 00:04:57.121187500\n",
       "Name: duration_mm:ss, dtype: timedelta64[ns]"
      ]
     },
     "execution_count": 248,
     "metadata": {},
     "output_type": "execute_result"
    }
   ],
   "source": [
    "no_karaoke.groupby(\"album\")[\"duration_mm:ss\"].mean().sort_values()\n"
   ]
  },
  {
   "cell_type": "markdown",
   "metadata": {},
   "source": [
    "From the group by object above, we can see the average song duration of each albumn in minute:second format. From sorting values, we can also see that the album with the shortest mean song duration is \"Taylor Swift (Big Machine Radio Release Special)\".\n"
   ]
  },
  {
   "cell_type": "markdown",
   "metadata": {},
   "source": [
    "Q3: Show a heatmap of the correlations between the features. Use a diverging colormap with white in the middle (i.e. white at a correlation of 0.0).\n"
   ]
  },
  {
   "cell_type": "code",
   "execution_count": 230,
   "metadata": {},
   "outputs": [],
   "source": [
    "feature_columns = ['danceability', 'energy', 'instrumentalness',\n",
    "                   'liveness', 'loudness', 'speechiness', 'tempo', 'valence']\n",
    "features = no_karaoke[feature_columns]\n"
   ]
  },
  {
   "cell_type": "code",
   "execution_count": 231,
   "metadata": {
    "vscode": {
     "languageId": "plaintext"
    }
   },
   "outputs": [
    {
     "data": {
      "text/plain": [
       "[Text(0.5, 1.0, 'Correlation of Song Features')]"
      ]
     },
     "execution_count": 231,
     "metadata": {},
     "output_type": "execute_result"
    },
    {
     "data": {
      "image/png": "[encoded data removed]",
      "text/plain": [
       "<Figure size 432x288 with 2 Axes>"
      ]
     },
     "metadata": {
      "needs_background": "light"
     },
     "output_type": "display_data"
    }
   ],
   "source": [
    "sns.heatmap(features.corr(), cmap=sns.color_palette(\"vlag\", as_cmap=True), vmin=-\n",
    "            1.0, vmax=1.0, fmt='0.2f', annot=True).set(title=\"Correlation of Song Features\")\n"
   ]
  },
  {
   "cell_type": "markdown",
   "metadata": {},
   "source": [
    "The heatmap above shows the correlation between song features for non-karaoke Taylor Swift songs. From the graph, we see that the highest positvie correlation is between loudness and energy (0.82) and the biggest negativie correlation is between loudness and speechiness (-0.52).\n"
   ]
  },
  {
   "cell_type": "markdown",
   "metadata": {},
   "source": [
    "Q4: List the top 5 correlations between the features of the songs.\n"
   ]
  },
  {
   "cell_type": "code",
   "execution_count": 232,
   "metadata": {
    "vscode": {
     "languageId": "plaintext"
    }
   },
   "outputs": [
    {
     "data": {
      "text/html": [
       "<div>\n",
       "<style scoped>\n",
       "    .dataframe tbody tr th:only-of-type {\n",
       "        vertical-align: middle;\n",
       "    }\n",
       "\n",
       "    .dataframe tbody tr th {\n",
       "        vertical-align: top;\n",
       "    }\n",
       "\n",
       "    .dataframe thead th {\n",
       "        text-align: right;\n",
       "    }\n",
       "</style>\n",
       "<table border=\"1\" class=\"dataframe\">\n",
       "  <thead>\n",
       "    <tr style=\"text-align: right;\">\n",
       "      <th></th>\n",
       "      <th>varl</th>\n",
       "      <th>var2</th>\n",
       "      <th>corr</th>\n",
       "    </tr>\n",
       "  </thead>\n",
       "  <tbody>\n",
       "    <tr>\n",
       "      <th>1</th>\n",
       "      <td>energy</td>\n",
       "      <td>loudness</td>\n",
       "      <td>0.817729</td>\n",
       "    </tr>\n",
       "    <tr>\n",
       "      <th>2</th>\n",
       "      <td>loudness</td>\n",
       "      <td>speechiness</td>\n",
       "      <td>-0.549766</td>\n",
       "    </tr>\n",
       "    <tr>\n",
       "      <th>3</th>\n",
       "      <td>danceability</td>\n",
       "      <td>valence</td>\n",
       "      <td>0.415063</td>\n",
       "    </tr>\n",
       "    <tr>\n",
       "      <th>4</th>\n",
       "      <td>energy</td>\n",
       "      <td>speechiness</td>\n",
       "      <td>-0.409169</td>\n",
       "    </tr>\n",
       "    <tr>\n",
       "      <th>5</th>\n",
       "      <td>speechiness</td>\n",
       "      <td>danceability</td>\n",
       "      <td>0.350922</td>\n",
       "    </tr>\n",
       "  </tbody>\n",
       "</table>\n",
       "</div>"
      ],
      "text/plain": [
       "           varl          var2      corr\n",
       "1        energy      loudness  0.817729\n",
       "2      loudness   speechiness -0.549766\n",
       "3  danceability       valence  0.415063\n",
       "4        energy   speechiness -0.409169\n",
       "5   speechiness  danceability  0.350922"
      ]
     },
     "execution_count": 232,
     "metadata": {},
     "output_type": "execute_result"
    }
   ],
   "source": [
    "features_corr = features.corr()\n",
    "features_corr.unstack()\n",
    "top5 = features_corr.unstack().sort_values(\n",
    "    key=abs, ascending=False).drop_duplicates().reset_index()\n",
    "top5.columns = ['varl', 'var2', 'corr']\n",
    "top5 = top5[top5['corr'] != 1].head()\n",
    "top5\n"
   ]
  },
  {
   "cell_type": "markdown",
   "metadata": {},
   "source": [
    "Q5: Does the position of the track on the album (i.e. track number) have an effect on the popularity of the song? Use both visual and statistical evidence to support your answer.\n"
   ]
  },
  {
   "cell_type": "code",
   "execution_count": 233,
   "metadata": {
    "vscode": {
     "languageId": "plaintext"
    }
   },
   "outputs": [
    {
     "data": {
      "text/plain": [
       "-0.17403554033698443"
      ]
     },
     "execution_count": 233,
     "metadata": {},
     "output_type": "execute_result"
    }
   ],
   "source": [
    "no_karaoke['track_number'].corr(no_karaoke['popularity'])\n"
   ]
  },
  {
   "cell_type": "code",
   "execution_count": 234,
   "metadata": {},
   "outputs": [
    {
     "data": {
      "text/plain": [
       "[Text(0, 0, '1'),\n",
       " Text(1, 0, '2'),\n",
       " Text(2, 0, '3'),\n",
       " Text(3, 0, '4'),\n",
       " Text(4, 0, '5'),\n",
       " Text(5, 0, '6'),\n",
       " Text(6, 0, '7'),\n",
       " Text(7, 0, '8'),\n",
       " Text(8, 0, '9'),\n",
       " Text(9, 0, '10'),\n",
       " Text(10, 0, '11'),\n",
       " Text(11, 0, '12'),\n",
       " Text(12, 0, '13'),\n",
       " Text(13, 0, '14'),\n",
       " Text(14, 0, '15'),\n",
       " Text(15, 0, '16'),\n",
       " Text(16, 0, '17'),\n",
       " Text(17, 0, '18'),\n",
       " Text(18, 0, '19'),\n",
       " Text(19, 0, '20'),\n",
       " Text(20, 0, '21'),\n",
       " Text(21, 0, '22'),\n",
       " Text(22, 0, '23'),\n",
       " Text(23, 0, '24'),\n",
       " Text(24, 0, '25'),\n",
       " Text(25, 0, '26'),\n",
       " Text(26, 0, '27'),\n",
       " Text(27, 0, '28'),\n",
       " Text(28, 0, '29'),\n",
       " Text(29, 0, '30'),\n",
       " Text(30, 0, '31'),\n",
       " Text(31, 0, '32'),\n",
       " Text(32, 0, '33'),\n",
       " Text(33, 0, '34'),\n",
       " Text(34, 0, '35'),\n",
       " Text(35, 0, '36'),\n",
       " Text(36, 0, '37'),\n",
       " Text(37, 0, '38'),\n",
       " Text(38, 0, '39'),\n",
       " Text(39, 0, '40'),\n",
       " Text(40, 0, '41'),\n",
       " Text(41, 0, '42'),\n",
       " Text(42, 0, '43'),\n",
       " Text(43, 0, '44'),\n",
       " Text(44, 0, '45'),\n",
       " Text(45, 0, '46')]"
      ]
     },
     "execution_count": 234,
     "metadata": {},
     "output_type": "execute_result"
    },
    {
     "data": {
      "image/png": "[encoded data removed]",
      "text/plain": [
       "<Figure size 864x432 with 1 Axes>"
      ]
     },
     "metadata": {
      "needs_background": "light"
     },
     "output_type": "display_data"
    }
   ],
   "source": [
    "grouped_tracks = no_karaoke.groupby(\n",
    "    \"track_number\")[\"popularity\"].mean().reset_index()\n",
    "\n",
    "sns.relplot(height=6, aspect=2)\n",
    "ax = sns.barplot(data=grouped_tracks, x=\"track_number\", y=\"popularity\")\n",
    "ax.set(title=\"Average Popularity Score per Track Number\",\n",
    "       xlabel=\"Track number\", ylabel=\"Mean Popularity\")\n",
    "ax.set_xticklabels(ax.get_xticklabels(), rotation=80)\n"
   ]
  },
  {
   "cell_type": "markdown",
   "metadata": {},
   "source": [
    "From calculating the correlation coefficient between the track number and popularity column and deriving a value of -0.17, we can see that there is relatively weak negative linear relationship between track number and popularity. From the bar graph, we can also see a gradual decline in mean song popularity score as the track number position increases.\n"
   ]
  },
  {
   "cell_type": "markdown",
   "metadata": {},
   "source": [
    "Q6: Are popular songs more danceable?\n",
    "Divide the songs into popular (i.e. those with a popularity rating of 60 or higher) and less popular (i.e. those with a popularity rating of less than 60).\n",
    "Conduct an ANOVA test for the two groups of data based on danceability feature. Are they statistically significant?\n"
   ]
  },
  {
   "cell_type": "code",
   "execution_count": 235,
   "metadata": {},
   "outputs": [],
   "source": [
    "import statsmodels.api as sm\n",
    "from statsmodels.formula.api import ols\n"
   ]
  },
  {
   "cell_type": "code",
   "execution_count": 236,
   "metadata": {
    "vscode": {
     "languageId": "plaintext"
    }
   },
   "outputs": [
    {
     "name": "stderr",
     "output_type": "stream",
     "text": [
      "/var/folders/87/p9hpbw597nb9frsx8622mh_c0000gn/T/ipykernel_48774/3869795640.py:1: SettingWithCopyWarning: \n",
      "A value is trying to be set on a copy of a slice from a DataFrame.\n",
      "Try using .loc[row_indexer,col_indexer] = value instead\n",
      "\n",
      "See the caveats in the documentation: https://pandas.pydata.org/pandas-docs/stable/user_guide/indexing.html#returning-a-view-versus-a-copy\n",
      "  no_karaoke['popularity_binary'] = no_karaoke['popularity'].apply(lambda x: 1 if x >= 60 else 0)\n"
     ]
    }
   ],
   "source": [
    "no_karaoke['popularity_binary'] = no_karaoke['popularity'].apply(\n",
    "    lambda x: 1 if x >= 60 else 0)\n"
   ]
  },
  {
   "cell_type": "code",
   "execution_count": 237,
   "metadata": {},
   "outputs": [
    {
     "name": "stdout",
     "output_type": "stream",
     "text": [
      "                  sum_sq      df         F    PR(>F)\n",
      "danceability    0.964504     1.0  4.435697  0.035427\n",
      "Residual      233.314566  1073.0       NaN       NaN\n"
     ]
    }
   ],
   "source": [
    "lm1 = ols('popularity_binary ~ danceability', data=no_karaoke).fit()\n",
    "table1 = sm.stats.anova_lm(lm1, typ=2)\n",
    "print(table1)\n"
   ]
  },
  {
   "cell_type": "markdown",
   "metadata": {},
   "source": [
    "From the ANOVA test above, it does seem that popular songs are statistically significantly more danceable than less popular songs as the p-value (0.035) is less than 0.05.\n"
   ]
  },
  {
   "cell_type": "markdown",
   "metadata": {},
   "source": [
    "Q7: Create a regression model with \"popularity\" as the dependent variable and \"liveness\" as the predictor variable.\n",
    "Report the following:\n",
    "\n",
    "1. Coefficient of determination (i.e. $r^2$)\n",
    "2. Whether the regression is statistically significant\n",
    "3. An estimate for the value of \"popularity\" when the value of \"liveness\" is 0.22.\n"
   ]
  },
  {
   "cell_type": "code",
   "execution_count": 238,
   "metadata": {},
   "outputs": [],
   "source": [
    "import statsmodels.formula.api as smf\n"
   ]
  },
  {
   "cell_type": "code",
   "execution_count": 239,
   "metadata": {
    "vscode": {
     "languageId": "plaintext"
    }
   },
   "outputs": [
    {
     "data": {
      "text/plain": [
       "(0.00934790425683385, 0.001504753707848027, 46.302955989622696)"
      ]
     },
     "execution_count": 239,
     "metadata": {},
     "output_type": "execute_result"
    }
   ],
   "source": [
    "model = smf.ols(formula='Q(\"popularity\") ~ Q(\"liveness\")',\n",
    "                data=no_karaoke).fit()\n",
    "r_squared = model.rsquared\n",
    "p_value = model.f_pvalue\n",
    "estimate = model.predict(pd.DataFrame({'liveness': [0.22]}))[0]\n",
    "r_squared, p_value, estimate\n"
   ]
  },
  {
   "cell_type": "markdown",
   "metadata": {},
   "source": [
    "An r-squared value of 0.009 means that 0.9% of the variance in liveness can be explained by popularity in the regression model. Since the p-value 0.0015 is smaller than 0.05, we can reject the null hypothesis and confirm the regression is stastistically significant. When the value of liveness is 0.22,the popularity score is 46.30.\n"
   ]
  },
  {
   "cell_type": "markdown",
   "metadata": {},
   "source": [
    "Q8: Due to intellectual property conflicts, Taylor Swift re-recorded some of her earlier albums, including `Fearless`, `Red` and `Speak Now`. We assume that re-recording her early albums will allow Taylor Swift to reclaim her artistry control, revisit the songs and make any changes she wants. Therefore, we want to see whether the new songs are more loved by the audiences by looking at the popularity score.\n",
    "\n",
    "- The re-recorded ones have `(Taylor’s version)` at the end of the album name.\n",
    "- We will ignore the Speak Now World Tour Live version. Therefore there are 5 albums as original and 3 as re-recorded\n",
    "\n",
    "a) Create a visualization that shows the distribution of popularity scores of original vs. re-recorded songs. There are multiple visualizations that would be appropriate here. You can choose any of them. At a minimum, you should create one visualization. Creating additional ones can earn you additional points.\n",
    "\n",
    "b) Is there a statistically significant difference between the popularity scores of the original and re-recorded songs? If so, which one is more popular? How much more popular is it, on average?\n"
   ]
  },
  {
   "cell_type": "code",
   "execution_count": 240,
   "metadata": {
    "vscode": {
     "languageId": "plaintext"
    }
   },
   "outputs": [],
   "source": [
    "old_songs = no_karaoke[no_karaoke['album'].str.contains('Red|Fearless')]\n"
   ]
  },
  {
   "cell_type": "code",
   "execution_count": 241,
   "metadata": {},
   "outputs": [
    {
     "name": "stderr",
     "output_type": "stream",
     "text": [
      "/var/folders/87/p9hpbw597nb9frsx8622mh_c0000gn/T/ipykernel_48774/3621644444.py:1: SettingWithCopyWarning: \n",
      "A value is trying to be set on a copy of a slice from a DataFrame.\n",
      "Try using .loc[row_indexer,col_indexer] = value instead\n",
      "\n",
      "See the caveats in the documentation: https://pandas.pydata.org/pandas-docs/stable/user_guide/indexing.html#returning-a-view-versus-a-copy\n",
      "  old_songs['re_recorded'] = old_songs['album'].apply(lambda x: 1 if \"(Taylor's Version)\" in x else 0)\n"
     ]
    }
   ],
   "source": [
    "old_songs['re_recorded'] = old_songs['album'].apply(\n",
    "    lambda x: 1 if \"(Taylor's Version)\" in x else 0)\n"
   ]
  },
  {
   "cell_type": "code",
   "execution_count": 242,
   "metadata": {},
   "outputs": [
    {
     "data": {
      "text/plain": [
       "[Text(0.5, 1.0, 'Distribution on Popularity Scores'),\n",
       " Text(0.5, 0, 'Re-recorded'),\n",
       " Text(0, 0.5, ' Popularity Score')]"
      ]
     },
     "execution_count": 242,
     "metadata": {},
     "output_type": "execute_result"
    },
    {
     "data": {
      "image/png": "[encoded data removed]",
      "text/plain": [
       "<Figure size 432x288 with 1 Axes>"
      ]
     },
     "metadata": {
      "needs_background": "light"
     },
     "output_type": "display_data"
    }
   ],
   "source": [
    "sns.boxplot(x='re_recorded', y='popularity', data=old_songs, palette='Set2').set(\n",
    "    title=\"Distribution on Popularity Scores\", xlabel=\"Re-recorded\", ylabel=\" Popularity Score\")\n"
   ]
  },
  {
   "cell_type": "code",
   "execution_count": 249,
   "metadata": {},
   "outputs": [
    {
     "data": {
      "text/plain": [
       "[Text(0.5, 1.0, 'Distribution on Popularity Scores'),\n",
       " Text(0.5, 0, 'Re-recorded'),\n",
       " Text(0, 0.5, ' Popularity Score')]"
      ]
     },
     "execution_count": 249,
     "metadata": {},
     "output_type": "execute_result"
    },
    {
     "data": {
      "image/png": "[encoded data removed]",
      "text/plain": [
       "<Figure size 432x288 with 1 Axes>"
      ]
     },
     "metadata": {
      "needs_background": "light"
     },
     "output_type": "display_data"
    }
   ],
   "source": [
    "sns.violinplot(x='re_recorded', y='popularity', data=old_songs, palette='Set2').set(\n",
    "    title=\"Distribution on Popularity Scores\", xlabel=\"Re-recorded\", ylabel=\" Popularity Score\")\n"
   ]
  },
  {
   "cell_type": "code",
   "execution_count": 243,
   "metadata": {},
   "outputs": [
    {
     "name": "stdout",
     "output_type": "stream",
     "text": [
      "               sum_sq     df           F        PR(>F)\n",
      "popularity  21.725898    1.0  171.949044  5.431048e-32\n",
      "Residual    42.327515  335.0         NaN           NaN\n"
     ]
    }
   ],
   "source": [
    "lm1 = ols('re_recorded ~ popularity', data=old_songs).fit()\n",
    "table1 = sm.stats.anova_lm(lm1, typ=2)\n",
    "print(table1)\n"
   ]
  },
  {
   "cell_type": "markdown",
   "metadata": {},
   "source": [
    "From the boxplot and violin plots above, there does appear a difference in distribution of popularity scores among original (re-recorded = 0) and re-recorded (re-recorded = 1) songs. Most notably, the median popularity score of re-recorded songs is much higher at around 67 compared to 42. Additionally from the ANOVA test, it does seem that re-recorded songs are statistically significantly more popular than original songs as the p-value (5.42e-32) is less than 0.05. From the F statistic, it also looks like re-recorded songs are more popular by 171.95 points on average.\n"
   ]
  },
  {
   "cell_type": "markdown",
   "metadata": {},
   "source": [
    "BONUS, worth up to 1 point: How would you determine whether [Taylor Swift has had an effect on the popularity of football](https://duckduckgo.com/?q=taylor+swift+football&atb=v314-1&ia=web)? What data would you need? What analysis would you perform? What would you expect the results to be?\n"
   ]
  },
  {
   "cell_type": "markdown",
   "metadata": {},
   "source": [
    "To determine if Taylor Swift has had an effect on popularity of football, we would need data looking at the number of football viewers (both on cable and streaming platforms) across all games throughout history. We could divided that data into two groups: those games before Taylor Swift started dating Travis Kelce and those games before. We could then conduct an ANOVA test to see if there is a statsitically significant difference in mean football viewers between the two groups. I expect that there would be a slight increase in football viewers after Taylor started datihng Travis as non football fans will now be turning on his games.\n"
   ]
  },
  {
   "cell_type": "markdown",
   "metadata": {},
   "source": [
    "### Submit your completed assignment in both IPYNB and HTML formats.\n"
   ]
  }
 ],
 "metadata": {
  "interpreter": {
   "hash": "f1c136f498209c4023f80f552b68925e0eac0828616a9d28d6e2f53d9dc92a26"
  },
  "kernelspec": {
   "display_name": "Python 3.9.12 ('base')",
   "language": "python",
   "name": "python3"
  },
  "language_info": {
   "codemirror_mode": {
    "name": "ipython",
    "version": 3
   },
   "file_extension": ".py",
   "mimetype": "text/x-python",
   "name": "python",
   "nbconvert_exporter": "python",
   "pygments_lexer": "ipython3",
   "version": "3.9.12"
  },
  "orig_nbformat": 4
 },
 "nbformat": 4,
 "nbformat_minor": 2
}
